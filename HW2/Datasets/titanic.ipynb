{
 "cells": [
  {
   "cell_type": "code",
   "execution_count": 1,
   "metadata": {},
   "outputs": [
    {
     "data": {
      "text/html": [
       "<div>\n",
       "<style scoped>\n",
       "    .dataframe tbody tr th:only-of-type {\n",
       "        vertical-align: middle;\n",
       "    }\n",
       "\n",
       "    .dataframe tbody tr th {\n",
       "        vertical-align: top;\n",
       "    }\n",
       "\n",
       "    .dataframe thead th {\n",
       "        text-align: right;\n",
       "    }\n",
       "</style>\n",
       "<table border=\"1\" class=\"dataframe\">\n",
       "  <thead>\n",
       "    <tr style=\"text-align: right;\">\n",
       "      <th></th>\n",
       "      <th>Survived</th>\n",
       "      <th>Pclass</th>\n",
       "      <th>Name</th>\n",
       "      <th>Sex</th>\n",
       "      <th>Age</th>\n",
       "      <th>Siblings/Spouses Aboard</th>\n",
       "      <th>Parents/Children Aboard</th>\n",
       "      <th>Fare</th>\n",
       "    </tr>\n",
       "  </thead>\n",
       "  <tbody>\n",
       "    <tr>\n",
       "      <td>0</td>\n",
       "      <td>0</td>\n",
       "      <td>3</td>\n",
       "      <td>Mr. Owen Harris Braund</td>\n",
       "      <td>male</td>\n",
       "      <td>22.0</td>\n",
       "      <td>1</td>\n",
       "      <td>0</td>\n",
       "      <td>7.2500</td>\n",
       "    </tr>\n",
       "    <tr>\n",
       "      <td>1</td>\n",
       "      <td>1</td>\n",
       "      <td>1</td>\n",
       "      <td>Mrs. John Bradley (Florence Briggs Thayer) Cum...</td>\n",
       "      <td>female</td>\n",
       "      <td>38.0</td>\n",
       "      <td>1</td>\n",
       "      <td>0</td>\n",
       "      <td>71.2833</td>\n",
       "    </tr>\n",
       "    <tr>\n",
       "      <td>2</td>\n",
       "      <td>1</td>\n",
       "      <td>3</td>\n",
       "      <td>Miss. Laina Heikkinen</td>\n",
       "      <td>female</td>\n",
       "      <td>26.0</td>\n",
       "      <td>0</td>\n",
       "      <td>0</td>\n",
       "      <td>7.9250</td>\n",
       "    </tr>\n",
       "    <tr>\n",
       "      <td>3</td>\n",
       "      <td>1</td>\n",
       "      <td>1</td>\n",
       "      <td>Mrs. Jacques Heath (Lily May Peel) Futrelle</td>\n",
       "      <td>female</td>\n",
       "      <td>35.0</td>\n",
       "      <td>1</td>\n",
       "      <td>0</td>\n",
       "      <td>53.1000</td>\n",
       "    </tr>\n",
       "    <tr>\n",
       "      <td>4</td>\n",
       "      <td>0</td>\n",
       "      <td>3</td>\n",
       "      <td>Mr. William Henry Allen</td>\n",
       "      <td>male</td>\n",
       "      <td>35.0</td>\n",
       "      <td>0</td>\n",
       "      <td>0</td>\n",
       "      <td>8.0500</td>\n",
       "    </tr>\n",
       "  </tbody>\n",
       "</table>\n",
       "</div>"
      ],
      "text/plain": [
       "   Survived  Pclass                                               Name  \\\n",
       "0         0       3                             Mr. Owen Harris Braund   \n",
       "1         1       1  Mrs. John Bradley (Florence Briggs Thayer) Cum...   \n",
       "2         1       3                              Miss. Laina Heikkinen   \n",
       "3         1       1        Mrs. Jacques Heath (Lily May Peel) Futrelle   \n",
       "4         0       3                            Mr. William Henry Allen   \n",
       "\n",
       "      Sex   Age  Siblings/Spouses Aboard  Parents/Children Aboard     Fare  \n",
       "0    male  22.0                        1                        0   7.2500  \n",
       "1  female  38.0                        1                        0  71.2833  \n",
       "2  female  26.0                        0                        0   7.9250  \n",
       "3  female  35.0                        1                        0  53.1000  \n",
       "4    male  35.0                        0                        0   8.0500  "
      ]
     },
     "execution_count": 1,
     "metadata": {},
     "output_type": "execute_result"
    }
   ],
   "source": [
    "import pandas as pd\n",
    "data = pd.read_csv('D:\\DataAnalysysHW\\HW2\\\\titanic.csv', delimiter=',')\n",
    "data.head()"
   ]
  },
  {
   "cell_type": "code",
   "execution_count": 2,
   "metadata": {},
   "outputs": [
    {
     "name": "stdout",
     "output_type": "stream",
     "text": [
      "<class 'pandas.core.frame.DataFrame'>\n",
      "RangeIndex: 887 entries, 0 to 886\n",
      "Data columns (total 8 columns):\n",
      "Survived                   887 non-null int64\n",
      "Pclass                     887 non-null int64\n",
      "Name                       887 non-null object\n",
      "Sex                        887 non-null object\n",
      "Age                        887 non-null float64\n",
      "Siblings/Spouses Aboard    887 non-null int64\n",
      "Parents/Children Aboard    887 non-null int64\n",
      "Fare                       887 non-null float64\n",
      "dtypes: float64(2), int64(4), object(2)\n",
      "memory usage: 55.6+ KB\n"
     ]
    }
   ],
   "source": [
    "data.info()"
   ]
  },
  {
   "cell_type": "code",
   "execution_count": 3,
   "metadata": {},
   "outputs": [
    {
     "data": {
      "text/plain": [
       "(887, 8)"
      ]
     },
     "execution_count": 3,
     "metadata": {},
     "output_type": "execute_result"
    }
   ],
   "source": [
    "data.shape"
   ]
  },
  {
   "cell_type": "code",
   "execution_count": 4,
   "metadata": {},
   "outputs": [
    {
     "data": {
      "text/plain": [
       "Index(['Survived', 'Pclass', 'Name', 'Sex', 'Age', 'Siblings/Spouses Aboard',\n",
       "       'Parents/Children Aboard', 'Fare'],\n",
       "      dtype='object')"
      ]
     },
     "execution_count": 4,
     "metadata": {},
     "output_type": "execute_result"
    }
   ],
   "source": [
    "data.columns"
   ]
  },
  {
   "cell_type": "code",
   "execution_count": 5,
   "metadata": {},
   "outputs": [
    {
     "data": {
      "text/plain": [
       "False"
      ]
     },
     "execution_count": 5,
     "metadata": {},
     "output_type": "execute_result"
    }
   ],
   "source": [
    "data.isnull().any().any()"
   ]
  },
  {
   "cell_type": "code",
   "execution_count": 6,
   "metadata": {},
   "outputs": [
    {
     "data": {
      "text/html": [
       "<div>\n",
       "<style scoped>\n",
       "    .dataframe tbody tr th:only-of-type {\n",
       "        vertical-align: middle;\n",
       "    }\n",
       "\n",
       "    .dataframe tbody tr th {\n",
       "        vertical-align: top;\n",
       "    }\n",
       "\n",
       "    .dataframe thead th {\n",
       "        text-align: right;\n",
       "    }\n",
       "</style>\n",
       "<table border=\"1\" class=\"dataframe\">\n",
       "  <thead>\n",
       "    <tr style=\"text-align: right;\">\n",
       "      <th></th>\n",
       "      <th>Survived</th>\n",
       "      <th>Pclass</th>\n",
       "      <th>Age</th>\n",
       "      <th>Siblings/Spouses Aboard</th>\n",
       "      <th>Parents/Children Aboard</th>\n",
       "      <th>Fare</th>\n",
       "    </tr>\n",
       "  </thead>\n",
       "  <tbody>\n",
       "    <tr>\n",
       "      <td>count</td>\n",
       "      <td>887.000000</td>\n",
       "      <td>887.000000</td>\n",
       "      <td>887.000000</td>\n",
       "      <td>887.000000</td>\n",
       "      <td>887.000000</td>\n",
       "      <td>887.00000</td>\n",
       "    </tr>\n",
       "    <tr>\n",
       "      <td>mean</td>\n",
       "      <td>0.385569</td>\n",
       "      <td>2.305524</td>\n",
       "      <td>29.471443</td>\n",
       "      <td>0.525366</td>\n",
       "      <td>0.383315</td>\n",
       "      <td>32.30542</td>\n",
       "    </tr>\n",
       "    <tr>\n",
       "      <td>std</td>\n",
       "      <td>0.487004</td>\n",
       "      <td>0.836662</td>\n",
       "      <td>14.121908</td>\n",
       "      <td>1.104669</td>\n",
       "      <td>0.807466</td>\n",
       "      <td>49.78204</td>\n",
       "    </tr>\n",
       "    <tr>\n",
       "      <td>min</td>\n",
       "      <td>0.000000</td>\n",
       "      <td>1.000000</td>\n",
       "      <td>0.420000</td>\n",
       "      <td>0.000000</td>\n",
       "      <td>0.000000</td>\n",
       "      <td>0.00000</td>\n",
       "    </tr>\n",
       "    <tr>\n",
       "      <td>25%</td>\n",
       "      <td>0.000000</td>\n",
       "      <td>2.000000</td>\n",
       "      <td>20.250000</td>\n",
       "      <td>0.000000</td>\n",
       "      <td>0.000000</td>\n",
       "      <td>7.92500</td>\n",
       "    </tr>\n",
       "    <tr>\n",
       "      <td>50%</td>\n",
       "      <td>0.000000</td>\n",
       "      <td>3.000000</td>\n",
       "      <td>28.000000</td>\n",
       "      <td>0.000000</td>\n",
       "      <td>0.000000</td>\n",
       "      <td>14.45420</td>\n",
       "    </tr>\n",
       "    <tr>\n",
       "      <td>75%</td>\n",
       "      <td>1.000000</td>\n",
       "      <td>3.000000</td>\n",
       "      <td>38.000000</td>\n",
       "      <td>1.000000</td>\n",
       "      <td>0.000000</td>\n",
       "      <td>31.13750</td>\n",
       "    </tr>\n",
       "    <tr>\n",
       "      <td>max</td>\n",
       "      <td>1.000000</td>\n",
       "      <td>3.000000</td>\n",
       "      <td>80.000000</td>\n",
       "      <td>8.000000</td>\n",
       "      <td>6.000000</td>\n",
       "      <td>512.32920</td>\n",
       "    </tr>\n",
       "  </tbody>\n",
       "</table>\n",
       "</div>"
      ],
      "text/plain": [
       "         Survived      Pclass         Age  Siblings/Spouses Aboard  \\\n",
       "count  887.000000  887.000000  887.000000               887.000000   \n",
       "mean     0.385569    2.305524   29.471443                 0.525366   \n",
       "std      0.487004    0.836662   14.121908                 1.104669   \n",
       "min      0.000000    1.000000    0.420000                 0.000000   \n",
       "25%      0.000000    2.000000   20.250000                 0.000000   \n",
       "50%      0.000000    3.000000   28.000000                 0.000000   \n",
       "75%      1.000000    3.000000   38.000000                 1.000000   \n",
       "max      1.000000    3.000000   80.000000                 8.000000   \n",
       "\n",
       "       Parents/Children Aboard       Fare  \n",
       "count               887.000000  887.00000  \n",
       "mean                  0.383315   32.30542  \n",
       "std                   0.807466   49.78204  \n",
       "min                   0.000000    0.00000  \n",
       "25%                   0.000000    7.92500  \n",
       "50%                   0.000000   14.45420  \n",
       "75%                   0.000000   31.13750  \n",
       "max                   6.000000  512.32920  "
      ]
     },
     "execution_count": 6,
     "metadata": {},
     "output_type": "execute_result"
    }
   ],
   "source": [
    "data.describe()"
   ]
  },
  {
   "cell_type": "code",
   "execution_count": 7,
   "metadata": {},
   "outputs": [
    {
     "data": {
      "text/html": [
       "<div>\n",
       "<style scoped>\n",
       "    .dataframe tbody tr th:only-of-type {\n",
       "        vertical-align: middle;\n",
       "    }\n",
       "\n",
       "    .dataframe tbody tr th {\n",
       "        vertical-align: top;\n",
       "    }\n",
       "\n",
       "    .dataframe thead th {\n",
       "        text-align: right;\n",
       "    }\n",
       "</style>\n",
       "<table border=\"1\" class=\"dataframe\">\n",
       "  <thead>\n",
       "    <tr style=\"text-align: right;\">\n",
       "      <th></th>\n",
       "      <th>Name</th>\n",
       "      <th>Sex</th>\n",
       "    </tr>\n",
       "  </thead>\n",
       "  <tbody>\n",
       "    <tr>\n",
       "      <td>count</td>\n",
       "      <td>887</td>\n",
       "      <td>887</td>\n",
       "    </tr>\n",
       "    <tr>\n",
       "      <td>unique</td>\n",
       "      <td>887</td>\n",
       "      <td>2</td>\n",
       "    </tr>\n",
       "    <tr>\n",
       "      <td>top</td>\n",
       "      <td>Mr. Leo Peter Vanden Steen</td>\n",
       "      <td>male</td>\n",
       "    </tr>\n",
       "    <tr>\n",
       "      <td>freq</td>\n",
       "      <td>1</td>\n",
       "      <td>573</td>\n",
       "    </tr>\n",
       "  </tbody>\n",
       "</table>\n",
       "</div>"
      ],
      "text/plain": [
       "                              Name   Sex\n",
       "count                          887   887\n",
       "unique                         887     2\n",
       "top     Mr. Leo Peter Vanden Steen  male\n",
       "freq                             1   573"
      ]
     },
     "execution_count": 7,
     "metadata": {},
     "output_type": "execute_result"
    }
   ],
   "source": [
    "data.describe(include=['object', 'bool'])"
   ]
  },
  {
   "cell_type": "code",
   "execution_count": 8,
   "metadata": {},
   "outputs": [
    {
     "name": "stdout",
     "output_type": "stream",
     "text": [
      "Исходные признаки:\n",
      " ['Survived', 'Pclass', 'Name', 'Sex', 'Age', 'Siblings/Spouses Aboard', 'Parents/Children Aboard', 'Fare'] \n",
      "\n",
      "Признаки после get_dummies:\n",
      " ['Survived', 'Pclass', 'Age', 'Siblings/Spouses Aboard', 'Parents/Children Aboard', 'Fare', 'Name_Capt. Edward Gifford Crosby', 'Name_Col. John Weir', 'Name_Col. Oberst Alfons Simonius-Blumer', 'Name_Don. Manuel E Uruchurtu', 'Name_Dr. Alfred Pain', 'Name_Dr. Alice (Farnham) Leader', 'Name_Dr. Arthur Jackson Brewe', 'Name_Dr. Ernest Moraweck', 'Name_Dr. Henry William Frauenthal', 'Name_Dr. Max Stahelin-Maeglin', 'Name_Dr. William Edward Minahan', 'Name_Jonkheer. John George Reuchlin', 'Name_Lady. (Lucille Christiana Sutherland)Duff Gordon', 'Name_Major. Archibald Willingham Butt', 'Name_Major. Arthur Godfrey Peuchen', 'Name_Master. Alden Gates Caldwell', 'Name_Master. Andre Mallet', 'Name_Master. Arthur Rice', 'Name_Master. Assad Alexander Thomas', 'Name_Master. Bertram Vere Dean', 'Name_Master. Clarence Gustaf Hugo Asplund', 'Name_Master. Eden Leslie Coutts', 'Name_Master. Edmond Roger Navratil', 'Name_Master. Edvin Rojj Felix Asplund', 'Name_Master. Eino Viljami Panula', 'Name_Master. Elias Nicola-Yarred', 'Name_Master. Eric Rice', 'Name_Master. Eugene Rice', 'Name_Master. Frank John William Goldsmith', 'Name_Master. George Hugh Rice', 'Name_Master. George Sibley Richards', 'Name_Master. Gerios Moubarek', 'Name_Master. Gosta Leonard Palsson', 'Name_Master. Halim Gonios Moubarek', 'Name_Master. Harald Skoog', 'Name_Master. Harold Theodor Johnson', 'Name_Master. Harold Victor Goodwin', 'Name_Master. Henry Forbes Lefebre', 'Name_Master. Hudson Trevor Allison', 'Name_Master. John Morgan Jr Davies', 'Name_Master. Juha Niilo Panula', 'Name_Master. Karl Thorsten Skoog', 'Name_Master. Meier Moor', 'Name_Master. Michel M Navratil', 'Name_Master. Richard F Becker', 'Name_Master. Sidney Leonard Goodwin', 'Name_Master. Sigvard Harald Elias Andersson', 'Name_Master. Thomas Henry Sage', 'Name_Master. Urho Abraham Panula', 'Name_Master. Viljo Hamalainen', 'Name_Master. Washington Dodge', 'Name_Master. William Frederick Goodwin', 'Name_Master. William Loch Coutts', 'Name_Master. William Rowe Richards', 'Name_Master. William Thornton II Carter', 'Name_Miss. (Marion Ogden) Meanwell', 'Name_Miss. Adele Kiamie Najib', 'Name_Miss. Agda Thorilda Viktoria Lindahl', 'Name_Miss. Agnes McCoy', 'Name_Miss. Albina Bazzani', 'Name_Miss. Alice Cleaver', 'Name_Miss. Alice Elizabeth Fortune', 'Name_Miss. Alice Herman', 'Name_Miss. Alice Phoebe Harknett', 'Name_Miss. Aloisia Haas', 'Name_Miss. Amelia Bissette', 'Name_Miss. Amelia Brown', 'Name_Miss. Amelie Icard', 'Name_Miss. Amy Zillah Elsie Stanley', 'Name_Miss. Ann Elizabeth Isham', 'Name_Miss. Anna Katherine Kelly', 'Name_Miss. Anna Kristine Salkjelsvik', 'Name_Miss. Anna McGowan', 'Name_Miss. Anna Peter', 'Name_Miss. Anna Sinkkonen', 'Name_Miss. Anna Sofia Nysten', 'Name_Miss. Anna Sofia Sjoblom', 'Name_Miss. Anna Sofia Turja', 'Name_Miss. Anna Ward', 'Name_Miss. Anne Perreault', 'Name_Miss. Annie Clemmer Funk', 'Name_Miss. Annie Jermyn', 'Name_Miss. Annie Jessie Harper', 'Name_Miss. Asuncion Duran y More', 'Name_Miss. Augusta Charlotta Lindblom', 'Name_Miss. Augusta Maria Vander Planke', 'Name_Miss. Augusta Serepeca', 'Name_Miss. Aurora Adelia Landergren', 'Name_Miss. Banoura Ayoub', 'Name_Miss. Bertha Ilett', 'Name_Miss. Bertha LeRoy', 'Name_Miss. Bertha Lehmann', 'Name_Miss. Bertha Moran', \"Name_Miss. Bridget Mary O'Sullivan\", \"Name_Miss. Bridget O'Driscoll\", 'Name_Miss. Brigdet Delia McDermott', 'Name_Miss. Carla Christine Nielsine Andersen-Jensen', 'Name_Miss. Caroline Louise Endres', 'Name_Miss. Catharina Van Impe', 'Name_Miss. Catherine Helen Johnston', 'Name_Miss. Clear Annie Cameron', 'Name_Miss. Constance Gladys Sage', 'Name_Miss. Constance Mirium West', 'Name_Miss. Daisy E Minahan', 'Name_Miss. Delia Henry', 'Name_Miss. Doolina Margaret Ford', 'Name_Miss. Dorothy Edith Sage', 'Name_Miss. Ebba Iris Alfrida Andersson', 'Name_Miss. Edwina Celia Troutt', 'Name_Miss. Eleanor Ileen Johnson', 'Name_Miss. Eliina Honkanen', 'Name_Miss. Elina Olsson', 'Name_Miss. Elisabeth Walton Allen', 'Name_Miss. Elise Lurette', 'Name_Miss. Elizabeth Bonnell', 'Name_Miss. Elizabeth Dowdell', 'Name_Miss. Elizabeth Margaret Burns', 'Name_Miss. Elizabeth Mussey Eustis', 'Name_Miss. Elizabeth W Shutes', 'Name_Miss. Ellen Barber', 'Name_Miss. Ellen Natalia Pettersson', \"Name_Miss. Ellen O'Dwyer\", 'Name_Miss. Ellen Toomey', 'Name_Miss. Ellis Anna Maria Andersson', 'Name_Miss. Elsie Doling', 'Name_Miss. Elsie Edith Bowerman', 'Name_Miss. Emily Borie Ryerson', 'Name_Miss. Emily Rugg', 'Name_Miss. Erna Alexandra Andersson', 'Name_Miss. Ethel Garside', 'Name_Miss. Eugenie Baclini', 'Name_Miss. Eva Miriam Hart', 'Name_Miss. Georgette Alexandra Madill', 'Name_Miss. Gerda Ulrika Dahlberg', 'Name_Miss. Gladys Cherry', 'Name_Miss. Gretchen Fiske Longley', 'Name_Miss. Hanora Healy', 'Name_Miss. Hanora Hegarty', \"Name_Miss. Hanora O'Leary\", 'Name_Miss. Harriet R Crosby', 'Name_Miss. Hedwig Margaritha Frolicher', 'Name_Miss. Helen Carr', 'Name_Miss. Helen Loraine Allison', 'Name_Miss. Helen Mary Mockler', 'Name_Miss. Helen Monypeny Newsom', 'Name_Miss. Helene Barbara Baclini', 'Name_Miss. Helmina Josefina Nilsson', 'Name_Miss. Henriette Yrois', 'Name_Miss. Hilda Mary Slayter', 'Name_Miss. Hildur E Hirvonen', 'Name_Miss. Hileni Zabour', 'Name_Miss. Hulda Amanda Adolfina Vestrom', 'Name_Miss. Ida Lefebre', 'Name_Miss. Ida Sofia Strandberg', 'Name_Miss. Ingeborg Constanzia Andersson', 'Name_Miss. Jamila Nicola-Yarred', 'Name_Miss. Jean Gertrude Hippach', 'Name_Miss. Jeannie Lefebre', 'Name_Miss. Jessie Wills Leitch', 'Name_Miss. Joan Wells', 'Name_Miss. Julie Rachel Christy', 'Name_Miss. Kate Buss', 'Name_Miss. Kate Connolly', 'Name_Miss. Kate Florence Phillips', 'Name_Miss. Katherine Gilnagh', 'Name_Miss. Katherine Mullens', 'Name_Miss. Katherine Murphy', 'Name_Miss. Katie Peters', 'Name_Miss. Katriina Jussila', 'Name_Miss. Kornelia Theodosia Andrews', 'Name_Miss. Kristina Sofia Laitinen', 'Name_Miss. Laina Heikkinen', 'Name_Miss. Laura Mabel Francatelli', 'Name_Miss. Lillian Amy Goodwin', 'Name_Miss. Lillian Gertrud Asplund', 'Name_Miss. Lucile Polk Carter', 'Name_Miss. Lucy Ridsdale', 'Name_Miss. Luise Gretchen Kink-Heilmann', 'Name_Miss. Lyyli Karoliina Silven', 'Name_Miss. Mabel Helen Fortune', 'Name_Miss. Mabel Skoog', 'Name_Miss. Madeleine Newell', 'Name_Miss. Madeleine Violet Mellinger', 'Name_Miss. Malake Attalah', 'Name_Miss. Manca Karun', 'Name_Miss. Margaret Bechstein Hays', 'Name_Miss. Margaret Delia Devaney', 'Name_Miss. Margaret Edith Graham', 'Name_Miss. Margaret Fleming', 'Name_Miss. Margaret Jane Murphy', 'Name_Miss. Margaret Madigan', 'Name_Miss. Margareth Mannion', 'Name_Miss. Margit Elizabeth Skoog', 'Name_Miss. Marguerite Rut Sandstrom', 'Name_Miss. Mari Aina Jussila', 'Name_Miss. Maria Nakid', 'Name_Miss. Marie Catherine Baclini', 'Name_Miss. Marie Grice Young', 'Name_Miss. Marija Cacic', 'Name_Miss. Marija Oreskovic', 'Name_Miss. Marion Elsie Smith', 'Name_Miss. Marion Louise Becker', 'Name_Miss. Marjorie Collyer', 'Name_Miss. Marjorie Newell', 'Name_Miss. Mary Agatha Glynn', 'Name_Miss. Mary Bourke', 'Name_Miss. Mary Canavan', 'Name_Miss. Mary Conover Lines', 'Name_Miss. Mary Davis', 'Name_Miss. Mary Kelly', 'Name_Miss. Mary Mangan', 'Name_Miss. Mary McGovern', 'Name_Miss. Mary Natalie Wick', 'Name_Miss. Mathilde Lefebre', 'Name_Miss. Matilda Petranec', 'Name_Miss. Nora A Keane', 'Name_Miss. Nourelain Boulos', 'Name_Miss. Phyllis May Quick', 'Name_Miss. Pieta Sofia Ilmakangas', 'Name_Miss. Roberta Maioni', 'Name_Miss. Robina Maggie Ford', 'Name_Miss. Rosalie Bidois', 'Name_Miss. Ruth Taussig', 'Name_Miss. Saiide Barbara', 'Name_Miss. Sara Rebecca Compton', 'Name_Miss. Sigrid Elisabeth Andersson', 'Name_Miss. Simonne Marie Anne Andree Laroche', 'Name_Miss. Stella Anna Sage', 'Name_Miss. Stina Viola Palsson', 'Name_Miss. Susan Parker Ryerson', 'Name_Miss. Susan Webber', 'Name_Miss. Telma Matilda Strom', 'Name_Miss. Thamine Zabour', 'Name_Miss. Torborg Danira Palsson', 'Name_Miss. Velin Ohman', 'Name_Miss. Virginia Ethel Emanuel', 'Name_Miss. Wendla Maria Heininen', 'Name_Mlle. Berthe Antonine Mayne', 'Name_Mlle. Emma Sagesser', 'Name_Mme. Leontine Pauline Aubart', 'Name_Mr. Abraham (David Lishin) Harmer', 'Name_Mr. Achille Waelens', 'Name_Mr. Adola Asim', 'Name_Mr. Adolf Mathias Nicolai Olsen Humblen', 'Name_Mr. Adolphe Saalfeld', 'Name_Mr. Ahmed Ali', 'Name_Mr. Albert A Stewart', 'Name_Mr. Albert Adrian Dick', 'Name_Mr. Albert Augustsson', 'Name_Mr. Albert Johan Moss', 'Name_Mr. Albert Mallet', 'Name_Mr. Alexander Cairns', 'Name_Mr. Alexander Oskar Holverson', 'Name_Mr. Alexander Radeff', 'Name_Mr. Alfons de Pelsmaeker', 'Name_Mr. Alfonzo Meo', 'Name_Mr. Alfred Fleming Cunningham', 'Name_Mr. Alfred Gaskell', 'Name_Mr. Alfred George John Rush', 'Name_Mr. Alfred J Davies', 'Name_Mr. Alfred Johnson', 'Name_Mr. Alfred Ossian Gustafsson', 'Name_Mr. Algernon Henry Wilson Barkworth', 'Name_Mr. Ali Lam', 'Name_Mr. Ambrose Jr Hood', 'Name_Mr. Amin Saad', 'Name_Mr. Anders Johan Andersson', 'Name_Mr. Anders Vilhelm Gustafsson', 'Name_Mr. Andrew G Johnston', 'Name_Mr. Andrew Keane', 'Name_Mr. Anthony Abbing', 'Name_Mr. Anthony Wood Frost', 'Name_Mr. Antoni Yasbeck', 'Name_Mr. Antti Gustaf Leinonen', 'Name_Mr. Antti Wilhelm Sivola', 'Name_Mr. Apostolos Chronopoulos', 'Name_Mr. Arne Jonas Fahlstrom', 'Name_Mr. Arthur Ernest Nicholson', 'Name_Mr. Arthur H Gee', 'Name_Mr. Arthur Keefe', 'Name_Mr. Arthur Webster Newell', 'Name_Mr. August Edvard Andersson', 'Name_Mr. August Meyer', 'Name_Mr. August Sigfrid Carlsson', 'Name_Mr. August Viktor Larsson', 'Name_Mr. Austen Partner', 'Name_Mr. Austin Blyler van Billiard', 'Name_Mr. Bengt Edvin Larsson', 'Name_Mr. Benjamin Guggenheim', 'Name_Mr. Benjamin Hart', 'Name_Mr. Benjamin Laventall Foreman', 'Name_Mr. Berk (Berk Trembisky) Pickard', 'Name_Mr. Bernard McCoy', 'Name_Mr. Bernt Johannesen-Bratthammer', 'Name_Mr. Bertram Frank Dean', 'Name_Mr. Branko Dakic', 'Name_Mr. Carl Jonsson', 'Name_Mr. Carl Olof Jansson', 'Name_Mr. Carl/Charles Peter Widegren', 'Name_Mr. Cerin Balkic', 'Name_Mr. Chang Chip', 'Name_Mr. Charles Alexander Fortune', 'Name_Mr. Charles Duane Williams', 'Name_Mr. Charles Edward Goodwin', 'Name_Mr. Charles Eugene Williams', 'Name_Mr. Charles Frederick Waddington Sedgwick', 'Name_Mr. Charles H Harrington', 'Name_Mr. Charles H Natsch', 'Name_Mr. Charles Hallace Romaine', 'Name_Mr. Charles Henry Chapman', 'Name_Mr. Charles Henry Davies', 'Name_Mr. Charles Joseph Shorney', 'Name_Mr. Charles Wilhelms', 'Name_Mr. Choong Foo', 'Name_Mr. Christo Nenkoff', 'Name_Mr. Claus Peter Hansen', 'Name_Mr. Daniel Coxon', 'Name_Mr. Daniel Danielsen Gronnestad', 'Name_Mr. Daniel J Moran', 'Name_Mr. Daniel Warner Marvin', 'Name_Mr. David Charters', 'Name_Mr. David John Barton', 'Name_Mr. David John Bowen', 'Name_Mr. David Reeves', 'Name_Mr. Denis Lennon', 'Name_Mr. Dibo Elias', 'Name_Mr. Dickinson H Bishop', 'Name_Mr. Domingos Fernandeo Coelho', 'Name_Mr. Douglas Bullen Sage', 'Name_Mr. Eberhard Thelander Fischer', 'Name_Mr. Edgar Joseph Meyer', 'Name_Mr. Edgardo Samuel Andrew', 'Name_Mr. Edvard Bengtsson Lindell', 'Name_Mr. Edvard Pekoniemi', 'Name_Mr. Edward Arthur Dorking', 'Name_Mr. Edward Austin Kent', 'Name_Mr. Edward Beane', 'Name_Mr. Edward H Wheadon', 'Name_Mr. Edward Pennington Calderhead', 'Name_Mr. Edward Pomeroy Colley', 'Name_Mr. Edward Roland Stanley', 'Name_Mr. Edward Willey', 'Name_Mr. Edwin Nelson Jr Kimball', 'Name_Mr. Edwy Arthur West', 'Name_Mr. Einar Windelov', 'Name_Mr. Eino William Lindqvist', 'Name_Mr. Eiriik Jussila', 'Name_Mr. Eliezer Gilinski', 'Name_Mr. Elmer Zebley Taylor', 'Name_Mr. Emil Christmann', 'Name_Mr. Emil Taussig', 'Name_Mr. Emile Richard', 'Name_Mr. Engelhart Cornelius Ostby', 'Name_Mr. Ennis Hastings Watson', 'Name_Mr. Erik Gustaf Collander', 'Name_Mr. Erik Johansson', 'Name_Mr. Ernest Charles Cann', 'Name_Mr. Ernest James Crease', 'Name_Mr. Ernest Portage Tomlin', 'Name_Mr. Ernesti Arvid Panula', 'Name_Mr. Ernst Adolf Sjostedt', 'Name_Mr. Ernst Gilbert Danbom', 'Name_Mr. Ernst Ulrik Persson', 'Name_Mr. Ernst William Torber', 'Name_Mr. Ervin G Lewy', 'Name_Mr. Eugene Patrick Daly', 'Name_Mr. Fahim Leeni', 'Name_Mr. Fang Lang', 'Name_Mr. Fared Kassem', 'Name_Mr. Farred Chehab Emir', 'Name_Mr. Fletcher Fellows Williams-Lambert', 'Name_Mr. Francesco Celotti', 'Name_Mr. Francis Davis Millet', 'Name_Mr. Francis Parkes', 'Name_Mr. Francis William Somerton', 'Name_Mr. Francisco M Carrau', 'Name_Mr. Frank Duane', 'Name_Mr. Frank John Goldsmith', 'Name_Mr. Frans Olof Carlsson', 'Name_Mr. Frederic Kimber Seward', 'Name_Mr. Frederick Charles Sawyer', 'Name_Mr. Frederick Edward Giles', 'Name_Mr. Frederick James Banfield', 'Name_Mr. Frederick Maxfield Hoyt', 'Name_Mr. Frederick Sage', 'Name_Mr. Frederick Sutton', 'Name_Mr. Frederick William Pengelly', 'Name_Mr. Frederick William Shellard', 'Name_Mr. Fridtjof Arne Madsen', 'Name_Mr. George Achilles Harder', 'Name_Mr. George B Goldschmidt', 'Name_Mr. George Bradley', 'Name_Mr. George Edward Graham', 'Name_Mr. George Floyd Eitemiller', 'Name_Mr. George Harris', 'Name_Mr. George Henry Green', 'Name_Mr. George Henry Hunt', 'Name_Mr. George John Jr Sage', 'Name_Mr. George Patchett', 'Name_Mr. George Quincy Clifford', 'Name_Mr. George Wright', 'Name_Mr. Gerious Youseff', 'Name_Mr. Gerious Yousseff', 'Name_Mr. Guentcho Bostandyeff', 'Name_Mr. Gurshon Cohen', 'Name_Mr. Gustaf Hjalmar Edvardsson', 'Name_Mr. Gustaf Joel Johansson', 'Name_Mr. Gustave J Lesurer', 'Name_Mr. Hammad Hassab', 'Name_Mr. Hanna Assi Barah', 'Name_Mr. Hanna Boulos', 'Name_Mr. Hanna Mamee', 'Name_Mr. Hans Kristensen Givard', 'Name_Mr. Hans Linus Eklund', 'Name_Mr. Hans Martin Monsen Birkeland', 'Name_Mr. Hans Peder Jensen', 'Name_Mr. Harry Anderson', 'Name_Mr. Harry Corn', 'Name_Mr. Harry Elkins Widener', 'Name_Mr. Harry Homer', 'Name_Mr. Harry Markland Molson', 'Name_Mr. Harvey Collyer', 'Name_Mr. Henrik Juul Hansen', 'Name_Mr. Henry Birkhardt Harris', 'Name_Mr. Henry Blank', 'Name_Mr. Henry Damsgaard Hansen', 'Name_Mr. Henry Hart', 'Name_Mr. Henry Jr Sutehall', 'Name_Mr. Henry Margido Olsen', 'Name_Mr. Henry Michael Mitchell', 'Name_Mr. Henry Price Hodges', 'Name_Mr. Henry Samuel Morley', 'Name_Mr. Henry Sleeper Harper', 'Name_Mr. Herbert Fuller Chaffee', 'Name_Mr. Herman Klaber', 'Name_Mr. Houssein G N Hassan', 'Name_Mr. Howard Hugh Williams', 'Name_Mr. Hugh Roscoe Rood', 'Name_Mr. Hugh Woolner', 'Name_Mr. Husein Sivic', 'Name_Mr. Ignjac Hendekovic', 'Name_Mr. Iisakki Antino Aijo Nirva', 'Name_Mr. Ilia Stoytcheff', 'Name_Mr. Ilmari Rudolf Alhomaki', 'Name_Mr. Ingvald Olai Olsen Hagland', 'Name_Mr. Ivan Jalsevac', 'Name_Mr. Ivan Mineff', 'Name_Mr. Ivan Staneff', 'Name_Mr. Ivan Stankovic', 'Name_Mr. Jaako Arnold Panula', 'Name_Mr. Jacob Christian Milling', 'Name_Mr. Jacob Cook', 'Name_Mr. Jacques Heath Futrelle', 'Name_Mr. Jakob Alfred Johanson', 'Name_Mr. Jakob Alfred Wiklund', 'Name_Mr. Jakob Pasic', 'Name_Mr. James Clinch Smith', 'Name_Mr. James Farrell', 'Name_Mr. James Flynn', 'Name_Mr. James George Reed', 'Name_Mr. James H Bracken', 'Name_Mr. James Kelly', 'Name_Mr. James Lester', 'Name_Mr. James Moran', 'Name_Mr. James Robert McGough', 'Name_Mr. James Scanlan', 'Name_Mr. James Webber', 'Name_Mr. Jan Baptist Sheerlinck', 'Name_Mr. Janko Vovk', 'Name_Mr. Jean Baptiste Van Impe', 'Name_Mr. Jeremiah Burke', 'Name_Mr. Jeso Culumovic', 'Name_Mr. Johan Birger Gustafsson', 'Name_Mr. Johan Ekstrom', 'Name_Mr. Johan Emil Petterson', 'Name_Mr. Johan Hansen Nysveen', 'Name_Mr. Johan Henrik Johannesson Kvillner', 'Name_Mr. Johan Julian Sundman', 'Name_Mr. Johan Svensson', 'Name_Mr. Johan Svensson Lundahl', 'Name_Mr. Johan Werner Salonen', 'Name_Mr. Johann Markun', 'Name_Mr. Johannes Halvorsen Kalvik', 'Name_Mr. Johannes Joseph Vande Velde', 'Name_Mr. John Adams', 'Name_Mr. John Borland Jr Thayer', 'Name_Mr. John Borland Thayer', 'Name_Mr. John Bourke', 'Name_Mr. John D Baumann', 'Name_Mr. John Denzil Jarvis', 'Name_Mr. John Farthing', 'Name_Mr. John Flynn', 'Name_Mr. John Fredrik Alexander Holm', 'Name_Mr. John Garfirth', 'Name_Mr. John Hall Lovell', 'Name_Mr. John Hatfield Cribb', 'Name_Mr. John Henry Chapman', 'Name_Mr. John Henry Perkin', 'Name_Mr. John Horgan', 'Name_Mr. John Hugo Ross', 'Name_Mr. John Irwin Flynn', 'Name_Mr. John Montgomery Smart', 'Name_Mr. John Simmons', 'Name_Mr. John Viktor Bengtsson', 'Name_Mr. John William Gill', 'Name_Mr. Jose Neto Jardin', 'Name_Mr. Josef Arnold-Franchi', 'Name_Mr. Joseph Charles Nicholls', 'Name_Mr. Joseph J Fynney', 'Name_Mr. Joseph Jr Elias', 'Name_Mr. Joseph Murdlin', 'Name_Mr. Joseph Peduzzi', 'Name_Mr. Joseph Philippe Lemercier Laroche', 'Name_Mr. Jovan Dimic', 'Name_Mr. Jovo Calic', 'Name_Mr. Jozef Drazenoic', 'Name_Mr. Juha Niskanen', 'Name_Mr. Juho Stranden', 'Name_Mr. Juho Tikkanen', 'Name_Mr. Julian Padro y Manent', 'Name_Mr. Kanio Ivanoff', 'Name_Mr. Karl Alfred Backstrom', 'Name_Mr. Karl Edwart Dahl', 'Name_Mr. Karl Gideon Gustafsson', 'Name_Mr. Karl Howell Behr', 'Name_Mr. Karl Ivar Sven Berglund', 'Name_Mr. Karl Johan Johansson', 'Name_Mr. Karl Siegwart Andreas Olsen', 'Name_Mr. Khalil Saad', 'Name_Mr. Klas Albin Klasen', 'Name_Mr. Knud Paust Rommetvedt', 'Name_Mr. Konrad Mathias Reiersen Hagland', 'Name_Mr. Kristo Laleff', 'Name_Mr. Kurt Arnold Gottfrid Bryhl', 'Name_Mr. Lalio Jonkoff', 'Name_Mr. Lalio Todoroff', 'Name_Mr. Lawrence Beesley', 'Name_Mr. Lawrence Gavey', 'Name_Mr. Lee Bing', 'Name_Mr. Lee Ling', 'Name_Mr. Len Lam', 'Name_Mr. Leo Edmondus Vander Planke', 'Name_Mr. Leo Peter Vanden Steen', 'Name_Mr. Leo Zimmerman', 'Name_Mr. Leon Hampe', 'Name_Mr. Leonard Charles Moore', 'Name_Mr. Leonard Mark Hickman', 'Name_Mr. Leslie Williams', 'Name_Mr. Lewis Hickman', 'Name_Mr. Lewis Richard Braund', 'Name_Mr. Lionel Leonard', 'Name_Mr. Liudevit Cor', 'Name_Mr. Luka Cacic', 'Name_Mr. Luka Oreskovic', 'Name_Mr. Malkolm Joackim Johnson', 'Name_Mr. Mansouer Novel', 'Name_Mr. Mansour Hanna', 'Name_Mr. Manuel Estanslas Goncalves', 'Name_Mr. Marin Markoff', 'Name_Mr. Mark Fortune', 'Name_Mr. Martin Gallagher', 'Name_Mr. Martin McMahon', 'Name_Mr. Martin Ponesell', 'Name_Mr. Masabumi Hosono', 'Name_Mr. Matthew Sadlier', 'Name_Mr. Matti Alexanteri Maenpaa', 'Name_Mr. Matti Rintamaki', \"Name_Mr. Maurice O'Connor\", 'Name_Mr. Maurice Sirota', 'Name_Mr. Mauritz Hakan Bjornstrom-Steffansson', 'Name_Mr. Mauritz Nils Martin Adahl', 'Name_Mr. Maxmillian Frolicher-Stehli', 'Name_Mr. Michael Connaghton', 'Name_Mr. Michel Navratil', 'Name_Mr. Milan Karaic', 'Name_Mr. Mile Smiljanic', 'Name_Mr. Milton Clyde Long', 'Name_Mr. Minko Nankoff', 'Name_Mr. Mito Mitkoff', 'Name_Mr. Mitto Denkoff', 'Name_Mr. Mohamed Badt', 'Name_Mr. Moses Aaron Troupiansky', 'Name_Mr. Nakli Toufik', 'Name_Mr. Nassef Cassem Albimona', 'Name_Mr. Neal McNamee', 'Name_Mr. Nedelio Petroff', 'Name_Mr. Nestor Cyriel Vande Walle', 'Name_Mr. Nicholas Nasser', 'Name_Mr. Niels Peder Jensen', 'Name_Mr. Nikola Lulic', 'Name_Mr. Nikolai Erland Kallio', 'Name_Mr. Nils August Karlsson', 'Name_Mr. Nils Johan Goransson Olsson', 'Name_Mr. Nils Martin Odahl', 'Name_Mr. Norman Campbell Chambers', 'Name_Mr. Olaf Elon Osen', 'Name_Mr. Ole Martin Olsen', 'Name_Mr. Olof Svensson', 'Name_Mr. Orsen Sirayanian', 'Name_Mr. Oskar Arvid Hedman', 'Name_Mr. Owen George Allum', 'Name_Mr. Owen Harris Braund', 'Name_Mr. Pastcho Petroff', 'Name_Mr. Patrick Connors', \"Name_Mr. Patrick D O'Connell\", 'Name_Mr. Patrick Dooley', 'Name_Mr. Patrick Ryan', 'Name_Mr. Paul Edvin Andreasson', 'Name_Mr. Pehr Fabian Oliver Malkolm Myhrman', 'Name_Mr. Peju Coleff', 'Name_Mr. Pekka Pietari Hakkarainen', 'Name_Mr. Penko Naidenoff', 'Name_Mr. Percival James R Sharp', 'Name_Mr. Percival Thorneycroft', 'Name_Mr. Percival Wayland White', 'Name_Mr. Percy Andrew Bailey', 'Name_Mr. Petar Calic', 'Name_Mr. Petco Slabenoff', 'Name_Mr. Peter Andreas Lauritz Andersen Soholt', 'Name_Mr. Peter David McKane', 'Name_Mr. Peter Denis Daly', 'Name_Mr. Peter Henry Renouf', 'Name_Mr. Peter L Lemberopolous', 'Name_Mr. Philemon van Melkebeke', 'Name_Mr. Philip Kiernan', 'Name_Mr. Phillippe Wiseman', 'Name_Mr. Pierre Marechal', 'Name_Mr. Quigg Edmond Baxter', 'Name_Mr. Rahamin Haim Moutal', 'Name_Mr. Raihed Razi', 'Name_Mr. Ramon Artagaveytia', 'Name_Mr. Reginald Charles Coleridge', 'Name_Mr. Reginald Fenton Butler', 'Name_Mr. Reginald Hale', 'Name_Mr. Rene Aime Lievens', 'Name_Mr. Rene Jacques Levy', 'Name_Mr. Rene Pernot', 'Name_Mr. Richard Cater Nosworthy', 'Name_Mr. Richard Frasar White', 'Name_Mr. Richard Fry', 'Name_Mr. Richard George Hocking', 'Name_Mr. Richard Henry Rouse', 'Name_Mr. Richard James Slemen', 'Name_Mr. Richard Leonard Beckwith', 'Name_Mr. Richard Otter', 'Name_Mr. Richard William Smith', 'Name_Mr. Ristiu Dantcheff', 'Name_Mr. Robert Douglas Norman', 'Name_Mr. Robert J Knight', 'Name_Mr. Robert Mernagh', 'Name_Mr. Robert William Norman Leyson', 'Name_Mr. Robert Williams Daniel', 'Name_Mr. Roger Tobin', 'Name_Mr. Rossmore Edward Abbott', 'Name_Mr. Sahid Nakid', 'Name_Mr. Samuel Abelson', 'Name_Mr. Samuel Beard Risien', 'Name_Mr. Samuel Dennis', 'Name_Mr. Samuel Greenberg', 'Name_Mr. Samuel James Hayden Sobey', 'Name_Mr. Samuel L Goldenberg', 'Name_Mr. Sante Ringhini', 'Name_Mr. Sarkis Lahoud', 'Name_Mr. Satio Coleff', 'Name_Mr. Sebastiano del Carlo', 'Name_Mr. Selman Francis Slocovski', 'Name_Mr. Shadrach Gale', 'Name_Mr. Sidney Samuel Jacobsohn', 'Name_Mr. Sigurd Hansen Moen', 'Name_Mr. Simon Maisner', 'Name_Mr. Sinai Kantor', 'Name_Mr. Sleiman Attalah', 'Name_Mr. Spencer Victor Silverthorne', 'Name_Mr. Stanley George Hickman', 'Name_Mr. Stanley Hubert Fox', 'Name_Mr. Stefo Pavlovic', 'Name_Mr. Stephen Curnow Jenkin', 'Name_Mr. Stephen Hold', 'Name_Mr. Stephen Weart Blackwell', 'Name_Mr. Stjepan Turcin', 'Name_Mr. Stoytcho Mionoff', 'Name_Mr. Svend Lauritz Jensen', 'Name_Mr. Tannous Betros', 'Name_Mr. Tannous Doharr', 'Name_Mr. Tannous Elias', 'Name_Mr. Theodore de Mulder', 'Name_Mr. Thomas Charles Mudd', 'Name_Mr. Thomas Clinton Pears', 'Name_Mr. Thomas Drake Martinez Cardeza', 'Name_Mr. Thomas J Kilgannon', 'Name_Mr. Thomas Joseph McCormack', 'Name_Mr. Thomas Jr Andrews', 'Name_Mr. Thomas Leonard Theobald', \"Name_Mr. Thomas O'Brien\", 'Name_Mr. Thomas Rowan Morrow', 'Name_Mr. Thomas William Solomon Brown', 'Name_Mr. Thor Anderson Olsvigen', 'Name_Mr. Thornton Davidson', 'Name_Mr. Tido Rekic', 'Name_Mr. Timothy J McCarthy', \"Name_Mr. Timothy O'Brien\", 'Name_Mr. Todor Sdycoff', 'Name_Mr. Tyrell William Cavendish', 'Name_Mr. Uscher Paulner', 'Name_Mr. Vasil Plotcharsky', 'Name_Mr. Victor Francis Sunderland', 'Name_Mr. Victor Giglio', 'Name_Mr. Victor Robbins', 'Name_Mr. Victor Vander Cruyssen', 'Name_Mr. Victor de Satode Penasco y Castellana', 'Name_Mr. Viktor Richard Rosblom', 'Name_Mr. Vincenz Kink', 'Name_Mr. Walter Chamberlain Porter', 'Name_Mr. Walter Donald Douglas', 'Name_Mr. Walter Harris', 'Name_Mr. Walter James Hawksford', 'Name_Mr. Washington Augustus II Roebling', 'Name_Mr. Wazli Yousif', 'Name_Mr. Wilhelm Skoog', 'Name_Mr. William Alexander', 'Name_Mr. William Alfred Brocklebank', 'Name_Mr. William Ali', 'Name_Mr. William Anderson Walker', 'Name_Mr. William Arthur Lobb', 'Name_Mr. William Baird Silvey', 'Name_Mr. William Bertram Greenfield', 'Name_Mr. William Cahoone Jr Johnson', 'Name_Mr. William Campbell', 'Name_Mr. William Carbines', 'Name_Mr. William Ernest Carter', 'Name_Mr. William Fisher Hoyt', 'Name_Mr. William Harrison', 'Name_Mr. William Henry Allen', 'Name_Mr. William Henry Gillespie', 'Name_Mr. William Henry Marsh Parr', 'Name_Mr. William Henry Saundercock', 'Name_Mr. William Henry Tornquist', 'Name_Mr. William James Downton', 'Name_Mr. William James Elsbury', 'Name_Mr. William John Berriman', 'Name_Mr. William John Matthews', 'Name_Mr. William John Mellors', 'Name_Mr. William John Robert Turpin', 'Name_Mr. William John Rogers', 'Name_Mr. William Morley', 'Name_Mr. William Neal Ford', 'Name_Mr. William Thomas Beavan', 'Name_Mr. William Thomas Stead', 'Name_Mr. William Thompson Sloper', 'Name_Mr. Wyckoff Van der hoef', 'Name_Mr. Yoto Danoff', 'Name_Mr. Youssef Samaan', 'Name_Mr. Yousseff Ibrahim Shawah', 'Name_Mrs. (Ada E Hall) Ball', 'Name_Mrs. (Amelia Milley) Lemore', 'Name_Mrs. (Beila) Moor', 'Name_Mrs. (Catherine David) Barbara', 'Name_Mrs. (Edith Martha Bowerman) Chibnall', 'Name_Mrs. (Elizabeth Anne Maidment) Mellinger', 'Name_Mrs. (Elizabeth Ramell) Nye', 'Name_Mrs. (Hedwig) Turkula', 'Name_Mrs. (Karolina) Bystrom', 'Name_Mrs. (Lutie Davis) Parrish', 'Name_Mrs. (Mantoura Boulos) Moussa', 'Name_Mrs. (Mary D Kingcome) Hewlett', 'Name_Mrs. (Mary) Mack', 'Name_Mrs. (Rosa) Pinsky', 'Name_Mrs. Albert Adrian (Vera Gillespie) Dick', 'Name_Mrs. Albert Francis (Sylvia Mae Harbaugh) Caldwell', 'Name_Mrs. Alexander A (Grace Charity Laury) Robins', 'Name_Mrs. Alexander Oskar (Mary Aline Towner) Holverson', 'Name_Mrs. Amin S (Marie Marthe Thuillard) Jerwan', 'Name_Mrs. Anders Johan (Alfrida Konstantia Brogren) Andersson', 'Name_Mrs. Antoni (Selini Alexander) Yasbeck', 'Name_Mrs. Benjamin (Esther Ada Bloomfield) Hart', 'Name_Mrs. Carl Oscar (Selma Augusta Emilia Johansson) Asplund', 'Name_Mrs. Catherine (Catherine Rizk) Peter', 'Name_Mrs. Charles Alexander (Alice Adelaide Slow) Louch', 'Name_Mrs. Charles Melville (Clara Jennings Gregg) Hays', 'Name_Mrs. Charles V (Ada Maria Winfield) Clarke', 'Name_Mrs. Darwis (Hanne Youssef Razi) Touma', 'Name_Mrs. Dickinson H (Helen Walton) Bishop', 'Name_Mrs. Edgar Joseph (Leila Saks) Meyer', 'Name_Mrs. Edward (Ethel Clarke) Beane', 'Name_Mrs. Edward (Margaret Ann Watson) Ford', 'Name_Mrs. Edward Dale (Charlotte Lamson) Appleton', 'Name_Mrs. Edward Scott (Elisabeth Walton McMillan) Robert', 'Name_Mrs. Edwy Arthur (Ada Mary Worth) West', 'Name_Mrs. Elizabeth (Eliza Needs) Hocking', 'Name_Mrs. Elmer Zebley (Juliet Cummins Wright) Taylor', 'Name_Mrs. Emil (Tillie Mandelbaum) Taussig', 'Name_Mrs. Ernest Courtenay (Lilian Hughes) Carter', 'Name_Mrs. Ernst Gilbert (Anna Sigrid Maria Brogren) Danbom', 'Name_Mrs. Fatima Masselmani', 'Name_Mrs. Florence Kelly', 'Name_Mrs. Frank John (Emily Alice Brown) Goldsmith', 'Name_Mrs. Frank Manley (Anna Sophia Atkinson) Warren', 'Name_Mrs. Frederic Oakley (Margaretta Corning Stone) Spedden', 'Name_Mrs. Frederick (Augusta Tyler) Goodwin', 'Name_Mrs. Frederick Charles (Jane Richards) Quick', 'Name_Mrs. Frederick Joel (Margaret Welles Barron) Swift', 'Name_Mrs. Frederick Maxfield (Jane Anne Forby) Hoyt', 'Name_Mrs. Frederick R (Marion) Kenyon', 'Name_Mrs. George Dennick (Mary Hitchcock) Wick', 'Name_Mrs. George Nelson (Martha Evelyn) Stone', 'Name_Mrs. Gertrude Maybelle Thorne', 'Name_Mrs. Guillaume Joseph (Emma) de Messemaeker', 'Name_Mrs. Harvey (Charlotte Annie Tate) Collyer', 'Name_Mrs. Henry Birkhardt (Irene Wallach) Harris', 'Name_Mrs. Henry Sleeper (Myna Haxtun) Harper', 'Name_Mrs. Henry William (Clara Heinsheimer) Frauenthal', 'Name_Mrs. Hjalmar (Agnes Charlotta Bengtsson) Sandstrom', 'Name_Mrs. Hudson J C (Bessie Waldo Daniels) Allison', 'Name_Mrs. Jacques Heath (Lily May Peel) Futrelle', 'Name_Mrs. James (Elizabeth Inglis Milne) Watt', 'Name_Mrs. James (Helene DeLaudeniere Chaput) Baxter', 'Name_Mrs. James Joseph (Margaret Tobin) Brown', 'Name_Mrs. James Vivian (Lulu Thorne Christian) Drew', 'Name_Mrs. Jean Baptiste (Rosalie Paula Govaert) Van Impe', 'Name_Mrs. Johan (Johanna Persdotter Larsson) Ahlin', 'Name_Mrs. John (Catherine) Bourke', 'Name_Mrs. John Borland (Marian Longstreth Morris) Thayer', 'Name_Mrs. John Bradley (Florence Briggs Thayer) Cumings', 'Name_Mrs. John C (Anna Andrews) Hogeboom', 'Name_Mrs. John Jacob (Madeleine Talmadge Force) Astor', 'Name_Mrs. John T (Ada Julia Bone) Doling', 'Name_Mrs. Josef (Josefine Franchi) Arnold-Franchi', 'Name_Mrs. Joseph (Juliette Marie Louise Lafargue) Laroche', 'Name_Mrs. Joseph (Maria Elias) Caram', 'Name_Mrs. Joseph (Sultana) Boulos', 'Name_Mrs. Juha (Maria Emilia Ojala) Panula', 'Name_Mrs. Julius (Emelia Maria Vandemoortele) Vander Planke', 'Name_Mrs. Karl Alfred (Maria Mathilda Gustafsson) Backstrom', 'Name_Mrs. Leopold (Mathilde Francoise Pede) Weisz', 'Name_Mrs. Lizzie (Elizabeth Anne Wilkinson) Faunthorpe', 'Name_Mrs. Louis Albert (Ida Sophia Fischer) Hippach', 'Name_Mrs. Mara Osman', 'Name_Mrs. Martin (Elizabeth L. Barrett) Rothschild', 'Name_Mrs. Nicholas (Adele Achem) Nasser', 'Name_Mrs. Nils (Alma Cornelia Berglund) Palsson', 'Name_Mrs. Norman Campbell (Bertha Griggs) Chambers', 'Name_Mrs. Oscar W (Elisabeth Vilhelmina Berg) Johnson', 'Name_Mrs. Pekka Pietari (Elin Matilda Dolck) Hakkarainen', 'Name_Mrs. Percival (Florence Kate White) Thorneycroft', 'Name_Mrs. Peter Henry (Lillian Jefferys) Renouf', 'Name_Mrs. Richard Leonard (Sallie Monypeny) Beckwith', 'Name_Mrs. Sam (Leah Rosen) Aks', 'Name_Mrs. Samuel (Hannah Wizosky) Abelson', 'Name_Mrs. Samuel (Jane Laver) Herman', 'Name_Mrs. Samuel L (Edwiga Grabowska) Goldenberg', 'Name_Mrs. Sidney (Emily Hocking) Richards', 'Name_Mrs. Sidney Samuel (Amy Frances Christy) Jacobsohn', 'Name_Mrs. Sinai (Miriam Sternin) Kantor', 'Name_Mrs. Solomon (Latifa Qurban) Baclini', 'Name_Mrs. Stanton (Rosa Hunt) Abbott', 'Name_Mrs. Thomas (Annie Louise Rowley) Meek', 'Name_Mrs. Thomas (Edith Wearne) Pears', \"Name_Mrs. Thomas (Johanna Godfrey) O'Brien\", 'Name_Mrs. Thomas Henry (Mary E Finck) Davison', 'Name_Mrs. Thomas Jr (Lily Alexenia Wilson) Potter', 'Name_Mrs. Thomas William Solomon (Elizabeth Catherine Ford) Brown', 'Name_Mrs. Victor de Satode (Maria Josefa Perez de Soto y Vallejo) Penasco y Castellana', 'Name_Mrs. Viktor (Helena Wilhelmina) Rosblom', 'Name_Mrs. Walter Bertram (Martha Eustis) Stephenson', 'Name_Mrs. Wilhelm (Elna Matilda Persson) Strom', 'Name_Mrs. William (Anna Bernhardina Karlsson) Skoog', 'Name_Mrs. William (Anna Sylfven) Lahtinen', 'Name_Mrs. William (Anna) Hamalainen', 'Name_Mrs. William (Imanita Parrish Hall) Shelley', 'Name_Mrs. William (Margaret Norton) Rice', 'Name_Mrs. William A (Florence Agnes Hughes) Angle', 'Name_Mrs. William Arthur (Cordelia K Stanlick) Lobb', 'Name_Mrs. William Augustus (Marie Eugenie) Spencer', 'Name_Mrs. William Baird (Alice Munger) Silvey', 'Name_Mrs. William Ernest (Lucile Polk) Carter', 'Name_Mrs. William H (Jessie L) Trout', 'Name_Mrs. William John Robert (Dorothy Ann Wonnacott) Turpin', 'Name_Mrs. William Thompson (Edith Junkins) Graham', 'Name_Ms. Encarnacion Reynaldo', 'Name_Rev. Charles Leonard Kirkland', 'Name_Rev. Ernest Courtenay Carter', 'Name_Rev. John Harper', 'Name_Rev. Juozas Montvila', 'Name_Rev. Robert James Bateman', 'Name_Rev. Thomas Roussel Davids Byles', 'Name_Sir. Cosmo Edmund Duff Gordon', 'Name_the Countess. of (Lucy Noel Martha Dyer-Edwards) Rothes', 'Sex_female', 'Sex_male']\n"
     ]
    }
   ],
   "source": [
    "\n",
    "print(\"Исходные признаки:\\n\", list(data.columns), \"\\n\")\n",
    "data_dummies = pd.get_dummies(data)\n",
    "print(\"Признаки после get_dummies:\\n\", list(data_dummies.columns))"
   ]
  },
  {
   "cell_type": "code",
   "execution_count": 11,
   "metadata": {},
   "outputs": [
    {
     "name": "stdout",
     "output_type": "stream",
     "text": [
      "male      573\n",
      "female    314\n",
      "Name: Sex, dtype: int64\n"
     ]
    }
   ],
   "source": [
    "print(data.Sex.value_counts())"
   ]
  },
  {
   "cell_type": "code",
   "execution_count": 12,
   "metadata": {},
   "outputs": [
    {
     "data": {
      "text/html": [
       "<div>\n",
       "<style scoped>\n",
       "    .dataframe tbody tr th:only-of-type {\n",
       "        vertical-align: middle;\n",
       "    }\n",
       "\n",
       "    .dataframe tbody tr th {\n",
       "        vertical-align: top;\n",
       "    }\n",
       "\n",
       "    .dataframe thead th {\n",
       "        text-align: right;\n",
       "    }\n",
       "</style>\n",
       "<table border=\"1\" class=\"dataframe\">\n",
       "  <thead>\n",
       "    <tr style=\"text-align: right;\">\n",
       "      <th></th>\n",
       "      <th>Survived</th>\n",
       "      <th>Pclass</th>\n",
       "      <th>Age</th>\n",
       "      <th>Siblings/Spouses Aboard</th>\n",
       "      <th>Parents/Children Aboard</th>\n",
       "      <th>Fare</th>\n",
       "      <th>Name_Capt. Edward Gifford Crosby</th>\n",
       "      <th>Name_Col. John Weir</th>\n",
       "      <th>Name_Col. Oberst Alfons Simonius-Blumer</th>\n",
       "      <th>Name_Don. Manuel E Uruchurtu</th>\n",
       "      <th>...</th>\n",
       "      <th>Name_Rev. Charles Leonard Kirkland</th>\n",
       "      <th>Name_Rev. Ernest Courtenay Carter</th>\n",
       "      <th>Name_Rev. John Harper</th>\n",
       "      <th>Name_Rev. Juozas Montvila</th>\n",
       "      <th>Name_Rev. Robert James Bateman</th>\n",
       "      <th>Name_Rev. Thomas Roussel Davids Byles</th>\n",
       "      <th>Name_Sir. Cosmo Edmund Duff Gordon</th>\n",
       "      <th>Name_the Countess. of (Lucy Noel Martha Dyer-Edwards) Rothes</th>\n",
       "      <th>Sex_female</th>\n",
       "      <th>Sex_male</th>\n",
       "    </tr>\n",
       "  </thead>\n",
       "  <tbody>\n",
       "    <tr>\n",
       "      <td>0</td>\n",
       "      <td>0</td>\n",
       "      <td>3</td>\n",
       "      <td>22.0</td>\n",
       "      <td>1</td>\n",
       "      <td>0</td>\n",
       "      <td>7.2500</td>\n",
       "      <td>0</td>\n",
       "      <td>0</td>\n",
       "      <td>0</td>\n",
       "      <td>0</td>\n",
       "      <td>...</td>\n",
       "      <td>0</td>\n",
       "      <td>0</td>\n",
       "      <td>0</td>\n",
       "      <td>0</td>\n",
       "      <td>0</td>\n",
       "      <td>0</td>\n",
       "      <td>0</td>\n",
       "      <td>0</td>\n",
       "      <td>0</td>\n",
       "      <td>1</td>\n",
       "    </tr>\n",
       "    <tr>\n",
       "      <td>1</td>\n",
       "      <td>1</td>\n",
       "      <td>1</td>\n",
       "      <td>38.0</td>\n",
       "      <td>1</td>\n",
       "      <td>0</td>\n",
       "      <td>71.2833</td>\n",
       "      <td>0</td>\n",
       "      <td>0</td>\n",
       "      <td>0</td>\n",
       "      <td>0</td>\n",
       "      <td>...</td>\n",
       "      <td>0</td>\n",
       "      <td>0</td>\n",
       "      <td>0</td>\n",
       "      <td>0</td>\n",
       "      <td>0</td>\n",
       "      <td>0</td>\n",
       "      <td>0</td>\n",
       "      <td>0</td>\n",
       "      <td>1</td>\n",
       "      <td>0</td>\n",
       "    </tr>\n",
       "  </tbody>\n",
       "</table>\n",
       "<p>2 rows × 895 columns</p>\n",
       "</div>"
      ],
      "text/plain": [
       "   Survived  Pclass   Age  Siblings/Spouses Aboard  Parents/Children Aboard  \\\n",
       "0         0       3  22.0                        1                        0   \n",
       "1         1       1  38.0                        1                        0   \n",
       "\n",
       "      Fare  Name_Capt. Edward Gifford Crosby  Name_Col. John Weir  \\\n",
       "0   7.2500                                 0                    0   \n",
       "1  71.2833                                 0                    0   \n",
       "\n",
       "   Name_Col. Oberst Alfons Simonius-Blumer  Name_Don. Manuel E Uruchurtu  ...  \\\n",
       "0                                        0                             0  ...   \n",
       "1                                        0                             0  ...   \n",
       "\n",
       "   Name_Rev. Charles Leonard Kirkland  Name_Rev. Ernest Courtenay Carter  \\\n",
       "0                                   0                                  0   \n",
       "1                                   0                                  0   \n",
       "\n",
       "   Name_Rev. John Harper  Name_Rev. Juozas Montvila  \\\n",
       "0                      0                          0   \n",
       "1                      0                          0   \n",
       "\n",
       "   Name_Rev. Robert James Bateman  Name_Rev. Thomas Roussel Davids Byles  \\\n",
       "0                               0                                      0   \n",
       "1                               0                                      0   \n",
       "\n",
       "   Name_Sir. Cosmo Edmund Duff Gordon  \\\n",
       "0                                   0   \n",
       "1                                   0   \n",
       "\n",
       "   Name_the Countess. of (Lucy Noel Martha Dyer-Edwards) Rothes  Sex_female  \\\n",
       "0                                                  0                      0   \n",
       "1                                                  0                      1   \n",
       "\n",
       "   Sex_male  \n",
       "0         1  \n",
       "1         0  \n",
       "\n",
       "[2 rows x 895 columns]"
      ]
     },
     "metadata": {},
     "output_type": "display_data"
    }
   ],
   "source": [
    "display(data_dummies.head(n=2))"
   ]
  },
  {
   "cell_type": "code",
   "execution_count": null,
   "metadata": {},
   "outputs": [],
   "source": []
  }
 ],
 "metadata": {
  "kernelspec": {
   "display_name": "Python 3",
   "language": "python",
   "name": "python3"
  },
  "language_info": {
   "codemirror_mode": {
    "name": "ipython",
    "version": 3
   },
   "file_extension": ".py",
   "mimetype": "text/x-python",
   "name": "python",
   "nbconvert_exporter": "python",
   "pygments_lexer": "ipython3",
   "version": "3.7.4"
  }
 },
 "nbformat": 4,
 "nbformat_minor": 2
}
